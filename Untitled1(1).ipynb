{
  "nbformat": 4,
  "nbformat_minor": 0,
  "metadata": {
    "colab": {
      "name": "Untitled1.ipynb",
      "provenance": []
    },
    "kernelspec": {
      "name": "python3",
      "display_name": "Python 3"
    },
    "language_info": {
      "name": "python"
    }
  },
  "cells": [
    {
      "cell_type": "code",
      "execution_count": 1,
      "metadata": {
        "id": "4r-_iAjxKtHo"
      },
      "outputs": [],
      "source": [
        ""
      ]
    },
    {
      "cell_type": "code",
      "source": [
        ""
      ],
      "metadata": {
        "id": "r9tURNtDLBBp"
      },
      "execution_count": null,
      "outputs": []
    },
    {
      "cell_type": "markdown",
      "source": [
        "section A 1"
      ],
      "metadata": {
        "id": "IUr2Dg8wLUkK"
      }
    },
    {
      "cell_type": "code",
      "source": [
        "print(\"hello python\")"
      ],
      "metadata": {
        "colab": {
          "base_uri": "https://localhost:8080/"
        },
        "id": "QR8YGzfxLZ0y",
        "outputId": "f6c76280-8d6c-444e-97f5-db8eaac12bc8"
      },
      "execution_count": 2,
      "outputs": [
        {
          "output_type": "stream",
          "name": "stdout",
          "text": [
            "hello python\n"
          ]
        }
      ]
    },
    {
      "cell_type": "code",
      "source": [
        ""
      ],
      "metadata": {
        "id": "Ot8Nc4R9LvgW"
      },
      "execution_count": null,
      "outputs": []
    },
    {
      "cell_type": "markdown",
      "source": [
        "2"
      ],
      "metadata": {
        "id": "jncPn5d7LwNr"
      }
    },
    {
      "cell_type": "code",
      "source": [
        "a=int(input(\"Enter the 1st number=\"))\n",
        "b=int(input(\"Enter the 2nd number=\"))\n",
        "Add=a+b\n",
        "Div=a/b\n",
        "print(\"Addition of 1st and 2nd number\",Add)\n",
        "print(\"Division of 1st and 2nd number\",Div)"
      ],
      "metadata": {
        "id": "OwcvnbEBL1uO"
      },
      "execution_count": null,
      "outputs": []
    },
    {
      "cell_type": "code",
      "source": [
        "base=int(input(\"Enter the base value=\"))\n",
        "height=int(input(\"Enter the height value=\"))\n",
        "area=0.5*base*height\n",
        "print(\"Area of Triangle is \",area)"
      ],
      "metadata": {
        "id": "U-C7sCz2M58q"
      },
      "execution_count": null,
      "outputs": []
    },
    {
      "cell_type": "code",
      "source": [
        "base=int(input(\"Enter the base value=\"))\n",
        "height=int(input(\"Enter the height value=\"))\n",
        "area=0.5*base*height\n",
        "print(\"Area of Triangle is \",area)"
      ],
      "metadata": {
        "id": "N7nDMtK3NAZz"
      },
      "execution_count": null,
      "outputs": []
    },
    {
      "cell_type": "code",
      "source": [
        "base=int(input(\"Enter the base value=\"))\n",
        "height=int(input(\"Enter the height value=\"))\n",
        "area=0.5*base*height\n",
        "print(\"Area of Triangle is \",area)"
      ],
      "metadata": {
        "id": "IUVUcK-SNG5C"
      },
      "execution_count": null,
      "outputs": []
    },
    {
      "cell_type": "markdown",
      "source": [
        "#section 2"
      ],
      "metadata": {
        "id": "TJe8CXiZNLds"
      }
    },
    {
      "cell_type": "code",
      "source": [
        "base=int(input(\"Enter the base value=\"))\n",
        "height=int(input(\"Enter the height value=\"))\n",
        "area=0.5*base*height\n",
        "print(\"Area of Triangle is \",area)"
      ],
      "metadata": {
        "id": "LB1uyyx1NRZB"
      },
      "execution_count": null,
      "outputs": []
    },
    {
      "cell_type": "code",
      "source": [
        "base=int(input(\"Enter the base value=\"))\n",
        "height=int(input(\"Enter the height value=\"))\n",
        "area=0.5*base*height\n",
        "print(\"Area of Triangle is \",area)"
      ],
      "metadata": {
        "id": "Lcy3JdquNXTp"
      },
      "execution_count": null,
      "outputs": []
    },
    {
      "cell_type": "code",
      "source": [
        "base=int(input(\"Enter the base value=\"))\n",
        "height=int(input(\"Enter the height value=\"))\n",
        "area=0.5*base*height\n",
        "print(\"Area of Triangle is \",area)"
      ],
      "metadata": {
        "id": "LmVU-jNcNefA"
      },
      "execution_count": null,
      "outputs": []
    },
    {
      "cell_type": "code",
      "source": [
        "import calendar\n",
        "yyyy=int(input(\"Enter the year (yyyy):\"))\n",
        "mm=int(input(\"Enter the month (mm): \"))\n",
        "print(calendar.month(yyyy, mm))"
      ],
      "metadata": {
        "id": "dpwLSZ-ENjeY"
      },
      "execution_count": null,
      "outputs": []
    },
    {
      "cell_type": "code",
      "source": [
        "x = int(input(\"Enter the X value:\"))\n",
        "y = int(input(\"Enter the Y value:\"))\n",
        "x,y=y,x\n",
        "print(\"X=\",x)\n",
        "print(\"Y=\",y)"
      ],
      "metadata": {
        "id": "HWHFbwbbNnkQ"
      },
      "execution_count": null,
      "outputs": []
    },
    {
      "cell_type": "code",
      "source": [
        ""
      ],
      "metadata": {
        "id": "oaRE_sazNovq"
      },
      "execution_count": null,
      "outputs": []
    },
    {
      "cell_type": "markdown",
      "source": [
        "#section c"
      ],
      "metadata": {
        "id": "ZGocGOVoNqq3"
      }
    },
    {
      "cell_type": "code",
      "source": [
        "num=int(input(\"Enter the value:\"))\n",
        "if num>0:\n",
        "  print(\"Number is positive\")\n",
        "elif num<0:\n",
        "  print(\"Number is negative\")\n",
        "else:\n",
        " print(\"Number is zero\")"
      ],
      "metadata": {
        "id": "rLxyIjpmNs1S"
      },
      "execution_count": null,
      "outputs": []
    },
    {
      "cell_type": "code",
      "source": [
        "num=int(input(\"Enter the value=\"))\n",
        "if num%2==0:\n",
        "  print(\"The number is Even\")\n",
        "else:\n",
        "  print(\"The number is Odd\")"
      ],
      "metadata": {
        "id": "gN5ZGO6lNyJx"
      },
      "execution_count": null,
      "outputs": []
    },
    {
      "cell_type": "markdown",
      "source": [
        "#section d"
      ],
      "metadata": {
        "id": "6IQMbLFjNzjf"
      }
    },
    {
      "cell_type": "code",
      "source": [
        "num = int(input(\"Enter a number: \"))    \n",
        "factorial = 1    \n",
        "if num < 0:    \n",
        "   print(\" Factorial does not exist for negative numbers\")    \n",
        "elif num == 0:    \n",
        "   print(\"The factorial of 0 is 1\")    \n",
        "else:    \n",
        "   for i in range(1,num + 1):    \n",
        "       factorial = factorial*i    \n",
        "   print(\"The factorial of\",num,\"is\",factorial)"
      ],
      "metadata": {
        "id": "C7-4K9x1N1t6"
      },
      "execution_count": null,
      "outputs": []
    },
    {
      "cell_type": "code",
      "source": [
        ""
      ],
      "metadata": {
        "id": "Misx1vomN8vf"
      },
      "execution_count": null,
      "outputs": []
    },
    {
      "cell_type": "code",
      "source": [
        ""
      ],
      "metadata": {
        "id": "HCTJqkHqOAAv"
      },
      "execution_count": null,
      "outputs": []
    },
    {
      "cell_type": "code",
      "source": [
        "num = int(input(\"Display multiplication table of? \"))\n",
        "for i in range(1, 11):\n",
        "   print(num, 'x', i, '=', num*i)"
      ],
      "metadata": {
        "id": "aShBqm_uN4aH"
      },
      "execution_count": null,
      "outputs": []
    },
    {
      "cell_type": "code",
      "source": [
        "nterm=int (input(\"Enter the terms to be printed:\"))\n",
        "n1=1\n",
        "count=0\n",
        "if nterm<=0:\n",
        "  print(\"Please enter a positive integer, the given number is not valid\")\n",
        "elif nterm==1:\n",
        "  print (\"The Fibonacci sequence of the number upto:\",nterm, \":\")\n",
        "  print (n1)\n",
        "else:\n",
        "    print (\"The Fibonacci sequence of the number is:\")\n",
        "while count <nterm:\n",
        "  print (n1)\n",
        "  nth=n1+n2\n",
        "  n1=n2\n",
        "  n2=nth \n",
        "  count +=1"
      ],
      "metadata": {
        "id": "hdmFcALhOBt-"
      },
      "execution_count": null,
      "outputs": []
    },
    {
      "cell_type": "code",
      "source": [
        "num=int(input(\"Enter the natural number:\"))\n",
        "if num < 0:\n",
        "   print(\"Enter a positive number\")\n",
        "else:\n",
        "   sum = 0\n",
        "   # use while loop to iterate until zero\n",
        "   while(num > 0):\n",
        "       sum += num\n",
        "       num -= 1\n",
        "   print(\"The sum is\", sum)"
      ],
      "metadata": {
        "id": "WTembveVOLit"
      },
      "execution_count": null,
      "outputs": []
    },
    {
      "cell_type": "code",
      "source": [
        ""
      ],
      "metadata": {
        "id": "Q0jnaLPsONU2"
      },
      "execution_count": null,
      "outputs": []
    },
    {
      "cell_type": "markdown",
      "source": [
        "#section f"
      ],
      "metadata": {
        "id": "PPkHyryROO7l"
      }
    },
    {
      "cell_type": "code",
      "source": [
        "Numeric= [12, 8, 9, 2, 5]\n",
        "sum=sum(Numericlist)\n",
        "print(list)\n",
        "print(\"sum of list: \",sum)"
      ],
      "metadata": {
        "id": "ORUM9oLmOWHE"
      },
      "execution_count": null,
      "outputs": []
    },
    {
      "cell_type": "code",
      "source": [
        "print(list)\n",
        "smallest=min(list)\n",
        "print(\"Smallest number in the list\",smallest)"
      ],
      "metadata": {
        "id": "VMHLC59kOZi0"
      },
      "execution_count": null,
      "outputs": []
    },
    {
      "cell_type": "code",
      "source": [
        ""
      ],
      "metadata": {
        "id": "t58txvSYOR40"
      },
      "execution_count": null,
      "outputs": []
    }
  ]
}