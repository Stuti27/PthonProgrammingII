{
  "nbformat": 4,
  "nbformat_minor": 0,
  "metadata": {
    "colab": {
      "name": "Untitled3.ipynb",
      "provenance": [],
      "collapsed_sections": []
    },
    "kernelspec": {
      "name": "python3",
      "display_name": "Python 3"
    },
    "language_info": {
      "name": "python"
    }
  },
  "cells": [
    {
      "cell_type": "code",
      "execution_count": null,
      "metadata": {
        "id": "BwBQODjgSPFG"
      },
      "outputs": [],
      "source": [
        "#1"
      ]
    },
    {
      "cell_type": "code",
      "source": [
        "def sum_three(a,b,c):\n",
        "  if a==b or b==c or c==a:\n",
        "     sum=3\n",
        "  else:\n",
        "    sum=3\n",
        "  return sum\n",
        "print(sum_three(4,4,4))\n",
        "print(sum_three(3,2,1))"
      ],
      "metadata": {
        "colab": {
          "base_uri": "https://localhost:8080/"
        },
        "id": "mMazHzeeSVDo",
        "outputId": "b675ff9f-56d6-49d3-a80a-c6e514df127a"
      },
      "execution_count": 2,
      "outputs": [
        {
          "output_type": "stream",
          "name": "stdout",
          "text": [
            "3\n",
            "3\n"
          ]
        }
      ]
    },
    {
      "cell_type": "code",
      "source": [
        "#2"
      ],
      "metadata": {
        "id": "G62TNI2pTFcj"
      },
      "execution_count": null,
      "outputs": []
    },
    {
      "cell_type": "code",
      "source": [
        "def DtoLoT(dict):\n",
        "  dict={'stuti':31,'sakshi':62,'mansi':20}\n",
        "  list=[(k,v)for k,v in dict.items()]\n",
        "\n",
        "  list.sort(key=lambda x:x[0])\n",
        "  return list\n",
        "print(DtoLoT(dict))"
      ],
      "metadata": {
        "colab": {
          "base_uri": "https://localhost:8080/"
        },
        "id": "zQF5h-BATHhj",
        "outputId": "2e982ec2-e13b-41d2-e473-b5c01f5d485d"
      },
      "execution_count": 4,
      "outputs": [
        {
          "output_type": "stream",
          "name": "stdout",
          "text": [
            "[('mansi', 20), ('sakshi', 62), ('stuti', 31)]\n"
          ]
        }
      ]
    },
    {
      "cell_type": "code",
      "source": [
        "#3"
      ],
      "metadata": {
        "id": "Oshx0sWSUvhi"
      },
      "execution_count": null,
      "outputs": []
    },
    {
      "cell_type": "code",
      "source": [
        "def replaceVowels(str,K):\n",
        "    vowels= 'aeiou'\n",
        "    for i in vowels:\n",
        "        str=str.replace(i,K)\n",
        "    return str\n",
        "\n",
        "input_str=\"I am Bob- THE BUILDER\"\n",
        "K=\"i\"\n",
        "\n",
        "print(\"Input string=\",input_str)\n",
        "print(\"Specified vowel=\",K)\n",
        "print(\"After replacing=\",replaceVowels(input_str,K))  \n"
      ],
      "metadata": {
        "colab": {
          "base_uri": "https://localhost:8080/"
        },
        "id": "e99FGdldUxCK",
        "outputId": "e9425374-f63b-4a60-b58d-1a308e596531"
      },
      "execution_count": 6,
      "outputs": [
        {
          "output_type": "stream",
          "name": "stdout",
          "text": [
            "Input string= I am Bob- THE BUILDER\n",
            "Specified vowel= i\n",
            "After replacing= I im Bib- THE BUILDER\n"
          ]
        }
      ]
    },
    {
      "cell_type": "code",
      "source": [
        "#4"
      ],
      "metadata": {
        "id": "70wMe1U0WuEH"
      },
      "execution_count": null,
      "outputs": []
    },
    {
      "cell_type": "code",
      "source": [
        "rahul=\"To infinity and beyond\"\n",
        "d=list(rahul)\n",
        "print(d)\n",
        "go=[]\n",
        "for i in d:\n",
        "    go.extend(ord(num)for num in i)\n",
        "print(go)\n",
        "\n",
        "odd=[]\n",
        "even=[]\n",
        "for i in go:\n",
        "    if(i % 2==0):\n",
        "         even.append(i)\n",
        "    else:\n",
        "         odd.append(i)"
      ],
      "metadata": {
        "colab": {
          "base_uri": "https://localhost:8080/"
        },
        "id": "mC-HDaobWvqM",
        "outputId": "a48dfddc-e988-4de7-d1ea-edf3baed11bd"
      },
      "execution_count": 8,
      "outputs": [
        {
          "output_type": "stream",
          "name": "stdout",
          "text": [
            "['T', 'o', ' ', 'i', 'n', 'f', 'i', 'n', 'i', 't', 'y', ' ', 'a', 'n', 'd', ' ', 'b', 'e', 'y', 'o', 'n', 'd']\n",
            "[84, 111, 32, 105, 110, 102, 105, 110, 105, 116, 121, 32, 97, 110, 100, 32, 98, 101, 121, 111, 110, 100]\n"
          ]
        }
      ]
    }
  ]
}